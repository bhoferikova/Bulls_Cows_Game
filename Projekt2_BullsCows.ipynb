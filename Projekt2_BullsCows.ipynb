{
  "nbformat": 4,
  "nbformat_minor": 0,
  "metadata": {
    "colab": {
      "name": "Projekt2_BullsCows.ipynb",
      "provenance": [],
      "collapsed_sections": [],
      "authorship_tag": "ABX9TyPjsa/NbZUEOtpBwNsDt1Cn",
      "include_colab_link": true
    },
    "kernelspec": {
      "name": "python3",
      "display_name": "Python 3"
    },
    "language_info": {
      "name": "python"
    }
  },
  "cells": [
    {
      "cell_type": "markdown",
      "metadata": {
        "id": "view-in-github",
        "colab_type": "text"
      },
      "source": [
        "<a href=\"https://colab.research.google.com/github/bhoferikova/Bulls_Cows_Game/blob/main/Projekt2_BullsCows.ipynb\" target=\"_parent\"><img src=\"https://colab.research.google.com/assets/colab-badge.svg\" alt=\"Open In Colab\"/></a>"
      ]
    },
    {
      "cell_type": "code",
      "metadata": {
        "colab": {
          "base_uri": "https://localhost:8080/"
        },
        "id": "81KK9k1gndr7",
        "outputId": "3bbd02f0-aa4f-4de1-e1bb-28b570415836"
      },
      "source": [
        "import random\n",
        "\n",
        "def game(guesses):\n",
        "  number = [random.randint(0,9) for n in range(4)]\n",
        "  line = 50 * '-'\n",
        "  nr_guesses = 0\n",
        "  print('Hi there !')\n",
        "  print(line)\n",
        "  print('I´ve generated a random 4 digit numbers for you.\\nLet´s play bull & cows game.')\n",
        "  print(line)\n",
        "  \n",
        "  while True:\n",
        "    nr_guesses += 1\n",
        "    try:\n",
        "      user_tip = get_number(nr_guesses)\n",
        "\n",
        "      if len(user_tip) < len(number):\n",
        "        print('Please enter 4 numbers! Try new game.')\n",
        "        break\n",
        "    except:\n",
        "      print('You can enter only numbers! Try new game.')\n",
        "      break\n",
        "\n",
        "       \n",
        "    right_numbers(user_tip, number)\n",
        "\n",
        "    if guesses == nr_guesses:\n",
        "      print('Sorry you didn´t win this time.\\nRight number was: '+ str(number))\n",
        "      break\n",
        "\n",
        "    elif number == user_tip:\n",
        "      print('Excelent, you won ! ')\n",
        "      print('You needed just' + str(nr_guesses) + 'to win')\n",
        "      break\n",
        " \n",
        "\n",
        "def get_number(nr_guesses):\n",
        "  line = 50 * '-'\n",
        "  print('*** Tip ' + str(nr_guesses) + ' ***')\n",
        "  user_tip = [int(i) for i in str(input('Enter a number: '))]\n",
        "  \n",
        "  print(line) \n",
        "  return user_tip\n",
        "  \n",
        "\n",
        "def right_numbers(user_tip, number):\n",
        "  line = 50 * '-'\n",
        "\n",
        "  cow = 0\n",
        "  bulls = 0\n",
        "\n",
        "  for x in range(4):\n",
        "    if number[x] == user_tip[x]:\n",
        "      cow += 1\n",
        "    elif user_tip[x] in number:\n",
        "      bulls += 1\n",
        "\n",
        "  print('Cows '+ str(cow) + ' Bulls ' + str(bulls))\n",
        "  print(line)\n",
        "\n",
        "\n",
        "\n",
        "game(3)\n"
      ],
      "execution_count": 4,
      "outputs": [
        {
          "output_type": "stream",
          "text": [
            "Hi there !\n",
            "--------------------------------------------------\n",
            "I´ve generated a random 4 digit numbers for you.\n",
            "Let´s play bull & cows game.\n",
            "--------------------------------------------------\n",
            "*** Tip 1 ***\n",
            "Enter a number: 1234\n",
            "--------------------------------------------------\n",
            "Cows 1 Bulls 0\n",
            "--------------------------------------------------\n",
            "*** Tip 2 ***\n",
            "Enter a number: 123\n",
            "--------------------------------------------------\n",
            "Please enter 4 numbers! Try new game.\n"
          ],
          "name": "stdout"
        }
      ]
    }
  ]
}