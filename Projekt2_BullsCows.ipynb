{
  "nbformat": 4,
  "nbformat_minor": 0,
  "metadata": {
    "colab": {
      "name": "Projekt2_BullsCows.ipynb",
      "provenance": [],
      "collapsed_sections": [],
      "authorship_tag": "ABX9TyOcKvD6adBdoU+gDc0d0Dd1",
      "include_colab_link": true
    },
    "kernelspec": {
      "name": "python3",
      "display_name": "Python 3"
    },
    "language_info": {
      "name": "python"
    }
  },
  "cells": [
    {
      "cell_type": "markdown",
      "metadata": {
        "id": "view-in-github",
        "colab_type": "text"
      },
      "source": [
        "<a href=\"https://colab.research.google.com/github/bhoferikova/Bulls_Cows_Game/blob/main/Projekt2_BullsCows.ipynb\" target=\"_parent\"><img src=\"https://colab.research.google.com/assets/colab-badge.svg\" alt=\"Open In Colab\"/></a>"
      ]
    },
    {
      "cell_type": "code",
      "metadata": {
        "colab": {
          "base_uri": "https://localhost:8080/"
        },
        "id": "81KK9k1gndr7",
        "outputId": "fa7a022f-cb8e-498b-b8d7-06dfa9d3b610"
      },
      "source": [
        "import random\n",
        "\n",
        "def game(guesses):\n",
        "  #number = [random.randint(1,9) for n in range(4)]\n",
        "  number = (random.sample(range(1,9), 4))\n",
        "  line = 50 * '-'\n",
        "  nr_guesses = 0\n",
        "  print('Hi there !')\n",
        "  print(line)\n",
        "  print('I´ve generated a random 4 digit numbers for you.\\nLet´s play bull & cows game.')\n",
        "  print(line)\n",
        "  \n",
        "  while True:\n",
        "    nr_guesses += 1\n",
        "    try:\n",
        "      user_tip = get_number(nr_guesses)\n",
        "\n",
        "      if len(user_tip) < len(number):\n",
        "        print('Please enter 4 numbers! Try new game.')\n",
        "        break\n",
        "    except (TypeError, ValueError):\n",
        "      print('You can enter only numbers! Try new game.')\n",
        "      break\n",
        "\n",
        "       \n",
        "    right_numbers(user_tip, number)\n",
        "\n",
        "    if guesses == nr_guesses:\n",
        "      print('Sorry you didn´t win this time.\\nRight number were: '+ str(number))\n",
        "      break\n",
        "\n",
        "    elif number == user_tip:\n",
        "      print('Excelent, you won ! ')\n",
        "      print('You needed just' + str(nr_guesses) + 'to win')\n",
        "      break\n",
        "    \n",
        "    elif number == user_tip and guesses == nr_guesses:\n",
        "      print('Your last try and you did it! Well done!')\n",
        "      break\n",
        " \n",
        "\n",
        "def get_number(nr_guesses):\n",
        "  line = 50 * '-'\n",
        "  print('*** Tip ' + str(nr_guesses) + ' ***')\n",
        "  user_tip = [int(i) for i in str(input('Enter a number: '))]\n",
        "  \n",
        "  print(line) \n",
        "  return user_tip\n",
        "  \n",
        "\n",
        "def right_numbers(user_tip, number):\n",
        "  line = 50 * '-'\n",
        "\n",
        "  cow = 0\n",
        "  bull = 0\n",
        "\n",
        "  for x in range(0,4):\n",
        "    if number[x] == user_tip[x]:\n",
        "      bull += 1\n",
        "    elif user_tip[x] in number:\n",
        "      cow += 1\n",
        "\n",
        "  print('Cow ' + str(cow) if cow < 2 else 'Cows ' + str(cow ), end=' ') \n",
        "  print('Bull ' + str(bull) if bull < 2 else 'Bulls ' + str(bull))\n",
        "  print(line)\n",
        "\n",
        "\n",
        "game(5)\n"
      ],
      "execution_count": 40,
      "outputs": [
        {
          "output_type": "stream",
          "text": [
            "Hi there !\n",
            "--------------------------------------------------\n",
            "I´ve generated a random 4 digit numbers for you.\n",
            "Let´s play bull & cows game.\n",
            "--------------------------------------------------\n",
            "*** Tip 1 ***\n",
            "Enter a number: 1234\n",
            "--------------------------------------------------\n",
            "Cows 3 Bull 0\n",
            "--------------------------------------------------\n",
            "*** Tip 2 ***\n",
            "Enter a number: 5321\n",
            "--------------------------------------------------\n",
            "Cows 3 Bull 0\n",
            "--------------------------------------------------\n",
            "*** Tip 3 ***\n",
            "Enter a number: 4235\n",
            "--------------------------------------------------\n",
            "Cows 2 Bull 0\n",
            "--------------------------------------------------\n",
            "*** Tip 4 ***\n",
            "Enter a number: 3184\n",
            "--------------------------------------------------\n",
            "Cow 1 Bull 1\n",
            "--------------------------------------------------\n",
            "*** Tip 5 ***\n",
            "Enter a number: 3294\n",
            "--------------------------------------------------\n",
            "Cows 2 Bull 0\n",
            "--------------------------------------------------\n",
            "Sorry you didn´t win this time.\n",
            "Right number were: [2, 1, 7, 3]\n"
          ],
          "name": "stdout"
        }
      ]
    }
  ]
}